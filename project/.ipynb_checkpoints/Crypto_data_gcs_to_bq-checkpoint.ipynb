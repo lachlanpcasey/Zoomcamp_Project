{
 "cells": [
  {
   "cell_type": "code",
   "execution_count": 1,
   "id": "260801ed",
   "metadata": {},
   "outputs": [],
   "source": [
    "from google.cloud import bigquery\n",
    "from google.cloud import storage\n",
    "from datetime import datetime\n",
    "from google.api_core import retry\n",
    "from google.cloud.exceptions import NotFound\n",
    "import sys"
   ]
  },
  {
   "cell_type": "code",
   "execution_count": null,
   "id": "e6701edd",
   "metadata": {},
   "outputs": [],
   "source": [
    "# Set variables\n",
    "crypto = sys.argv[1]\n",
    "bucket_name = 'crypto-data-project-bucket'\n",
    "crypto_folder = 'crypto_data'\n",
    "dataset_id = 'crypto_data_project_raw_tables'"
   ]
  },
  {
   "cell_type": "code",
   "execution_count": 47,
   "id": "7b7a5ded",
   "metadata": {},
   "outputs": [],
   "source": [
    "# Path to your credentials file\n",
    "creds_path = 'creds.json'"
   ]
  },
  {
   "cell_type": "code",
   "execution_count": 48,
   "id": "1a2566b2",
   "metadata": {},
   "outputs": [],
   "source": [
    "# Instantiate a client object\n",
    "client = bigquery.Client.from_service_account_json(creds_path)"
   ]
  },
  {
   "cell_type": "code",
   "execution_count": 49,
   "id": "59104316",
   "metadata": {},
   "outputs": [],
   "source": [
    "# Set up GCS client object\n",
    "storage_client = storage.Client.from_service_account_json(creds_path)"
   ]
  },
  {
   "cell_type": "code",
   "execution_count": 51,
   "id": "61fe5fe4",
   "metadata": {},
   "outputs": [],
   "source": [
    "# Get current date in YYYYMMDD format\n",
    "current_date = datetime.now().strftime('%Y-%m-%d')"
   ]
  },
  {
   "cell_type": "code",
   "execution_count": 52,
   "id": "0d53e138",
   "metadata": {},
   "outputs": [
    {
     "data": {
      "text/plain": [
       "'2023-03-25'"
      ]
     },
     "execution_count": 52,
     "metadata": {},
     "output_type": "execute_result"
    }
   ],
   "source": [
    "current_date"
   ]
  },
  {
   "cell_type": "code",
   "execution_count": 53,
   "id": "69ae6321",
   "metadata": {},
   "outputs": [],
   "source": [
    "# Construct GCS URI for the file to be loaded\n",
    "gcs_uri = f'gs://{bucket_name}/{crypto_folder}/{crypto}/{crypto}_{current_date}.csv'"
   ]
  },
  {
   "cell_type": "code",
   "execution_count": 54,
   "id": "42d147fc",
   "metadata": {},
   "outputs": [],
   "source": [
    "# Construct table ID for BigQuery table\n",
    "table_id = f'{crypto}_{current_date}_bq'"
   ]
  },
  {
   "cell_type": "code",
   "execution_count": 55,
   "id": "5a7871ec",
   "metadata": {},
   "outputs": [],
   "source": [
    "# Construct reference to the BigQuery dataset\n",
    "dataset_ref = client.dataset(dataset_id)"
   ]
  },
  {
   "cell_type": "code",
   "execution_count": 56,
   "id": "f5b46bb6",
   "metadata": {},
   "outputs": [],
   "source": [
    "# Define retry object\n",
    "retry_policy = retry.Retry(\n",
    "    predicate=retry.if_transient_error,\n",
    "    deadline=30\n",
    ")"
   ]
  },
  {
   "cell_type": "code",
   "execution_count": 84,
   "id": "83e83534",
   "metadata": {
    "scrolled": true
   },
   "outputs": [],
   "source": [
    "# Check if table exists, create it if it doesn't\n",
    "table_ref = client.dataset(dataset_id).table(table_id)\n",
    "try:\n",
    "    client.get_table(table_ref)\n",
    "except NotFound:\n",
    "    schema = [\n",
    "        bigquery.SchemaField('date', 'DATE', mode='NULLABLE'),\n",
    "        bigquery.SchemaField('low', 'FLOAT', mode='NULLABLE'),\n",
    "        bigquery.SchemaField('high', 'FLOAT', mode='NULLABLE'),\n",
    "        bigquery.SchemaField('open', 'FLOAT', mode='NULLABLE'),\n",
    "        bigquery.SchemaField('close', 'FLOAT', mode='NULLABLE'),\n",
    "        bigquery.SchemaField('volume_from', 'FLOAT', mode='NULLABLE'),\n",
    "        bigquery.SchemaField('volume_to', 'FLOAT', mode='NULLABLE')\n",
    "    ]\n",
    "    table = bigquery.Table(table_ref, schema=schema)\n",
    "    table = client.create_table(table)\n",
    "    print(f'Created table {table.table_id} in {table.dataset_id}.')\n"
   ]
  },
  {
   "cell_type": "code",
   "execution_count": 85,
   "id": "e189711a",
   "metadata": {},
   "outputs": [],
   "source": [
    "# Construct job configuration\n",
    "job_config = bigquery.LoadJobConfig(\n",
    "    autodetect=True,\n",
    "    skip_leading_rows=1,\n",
    "    source_format=bigquery.SourceFormat.CSV,\n",
    "    field_delimiter=','\n",
    ")"
   ]
  },
  {
   "cell_type": "code",
   "execution_count": 86,
   "id": "438aa633",
   "metadata": {},
   "outputs": [],
   "source": [
    "# Construct the BigQuery load job\n",
    "load_job = client.load_table_from_uri(\n",
    "    gcs_uri,\n",
    "    dataset_ref.table(table_id),\n",
    "    job_config=job_config\n",
    ")"
   ]
  },
  {
   "cell_type": "code",
   "execution_count": 87,
   "id": "32ca197f",
   "metadata": {},
   "outputs": [
    {
     "name": "stdout",
     "output_type": "stream",
     "text": [
      "Table BTC_2023-03-25_bq successfully created in BigQuery\n"
     ]
    }
   ],
   "source": [
    "# Wait for the load job to finish\n",
    "load_job.result()\n",
    "\n",
    "# Print message upon completion\n",
    "print(f'Table {table_id} successfully created in BigQuery')"
   ]
  }
 ],
 "metadata": {
  "kernelspec": {
   "display_name": "Python 3 (ipykernel)",
   "language": "python",
   "name": "python3"
  },
  "language_info": {
   "codemirror_mode": {
    "name": "ipython",
    "version": 3
   },
   "file_extension": ".py",
   "mimetype": "text/x-python",
   "name": "python",
   "nbconvert_exporter": "python",
   "pygments_lexer": "ipython3",
   "version": "3.9.13"
  }
 },
 "nbformat": 4,
 "nbformat_minor": 5
}
