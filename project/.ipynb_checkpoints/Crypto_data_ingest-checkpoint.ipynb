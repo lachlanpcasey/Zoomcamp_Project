{
 "cells": [
  {
   "cell_type": "code",
   "execution_count": 132,
   "id": "e9bb0978",
   "metadata": {},
   "outputs": [],
   "source": [
    "import requests\n",
    "import json\n",
    "import csv\n",
    "from google.cloud import storage\n",
    "import pandas as pd\n",
    "import os\n",
    "from datetime import datetime\n",
    "import sys"
   ]
  },
  {
   "cell_type": "code",
   "execution_count": 133,
   "id": "885b1831",
   "metadata": {},
   "outputs": [],
   "source": [
    "# get the crypto argument passed to the script\n",
    "crypto = sys.argv[1]"
   ]
  },
  {
   "cell_type": "code",
   "execution_count": 134,
   "id": "a6f32636",
   "metadata": {},
   "outputs": [],
   "source": [
    "current_date = datetime.now().date()"
   ]
  },
  {
   "cell_type": "code",
   "execution_count": 135,
   "id": "9114169a",
   "metadata": {},
   "outputs": [],
   "source": [
    "current_date_str = current_date.strftime('%Y-%m-%d')"
   ]
  },
  {
   "cell_type": "code",
   "execution_count": 136,
   "id": "a51dddab",
   "metadata": {},
   "outputs": [],
   "source": [
    "api_key = 'fc9ec622b77532a318afb4e4c795785ae5a0bec62b4b9a9ed40bf61ed4278788'"
   ]
  },
  {
   "cell_type": "code",
   "execution_count": 137,
   "id": "af009324",
   "metadata": {},
   "outputs": [],
   "source": [
    "cryptocurrencies = [crypto]"
   ]
  },
  {
   "cell_type": "code",
   "execution_count": 138,
   "id": "9e5be9cd",
   "metadata": {},
   "outputs": [],
   "source": [
    "url = 'https://min-api.cryptocompare.com/data/v2/histoday'"
   ]
  },
  {
   "cell_type": "code",
   "execution_count": 139,
   "id": "ca445c42",
   "metadata": {},
   "outputs": [],
   "source": [
    "params = {'fsym': ','.join(cryptocurrencies), 'tsym': 'USD', 'limit': 2000,'api_key': api_key}"
   ]
  },
  {
   "cell_type": "code",
   "execution_count": 140,
   "id": "5a739af6",
   "metadata": {},
   "outputs": [],
   "source": [
    "headers = {'Accept': 'application/json'}"
   ]
  },
  {
   "cell_type": "code",
   "execution_count": 141,
   "id": "20b5d9c5",
   "metadata": {},
   "outputs": [],
   "source": [
    "response = requests.get(url, params=params, headers=headers)"
   ]
  },
  {
   "cell_type": "code",
   "execution_count": 142,
   "id": "1dda9c3e",
   "metadata": {},
   "outputs": [
    {
     "ename": "KeyError",
     "evalue": "'Data'",
     "output_type": "error",
     "traceback": [
      "\u001b[0;31m---------------------------------------------------------------------------\u001b[0m",
      "\u001b[0;31mKeyError\u001b[0m                                  Traceback (most recent call last)",
      "\u001b[0;32m/tmp/ipykernel_616282/438321985.py\u001b[0m in \u001b[0;36m<module>\u001b[0;34m\u001b[0m\n\u001b[0;32m----> 1\u001b[0;31m \u001b[0mdata\u001b[0m \u001b[0;34m=\u001b[0m \u001b[0mjson\u001b[0m\u001b[0;34m.\u001b[0m\u001b[0mloads\u001b[0m\u001b[0;34m(\u001b[0m\u001b[0mresponse\u001b[0m\u001b[0;34m.\u001b[0m\u001b[0mtext\u001b[0m\u001b[0;34m)\u001b[0m\u001b[0;34m[\u001b[0m\u001b[0;34m\"Data\"\u001b[0m\u001b[0;34m]\u001b[0m\u001b[0;34m[\u001b[0m\u001b[0;34m\"Data\"\u001b[0m\u001b[0;34m]\u001b[0m\u001b[0;34m\u001b[0m\u001b[0;34m\u001b[0m\u001b[0m\n\u001b[0m",
      "\u001b[0;31mKeyError\u001b[0m: 'Data'"
     ]
    }
   ],
   "source": [
    "data = json.loads(response.text)[\"Data\"][\"Data\"]"
   ]
  },
  {
   "cell_type": "code",
   "execution_count": null,
   "id": "0ef6e818",
   "metadata": {},
   "outputs": [],
   "source": [
    "data"
   ]
  },
  {
   "cell_type": "code",
   "execution_count": null,
   "id": "e2e9a099",
   "metadata": {},
   "outputs": [],
   "source": [
    "daily_data = {}"
   ]
  },
  {
   "cell_type": "code",
   "execution_count": null,
   "id": "28a6d23e",
   "metadata": {},
   "outputs": [],
   "source": [
    "for day in data:\n",
    "    date = day[\"time\"]\n",
    "    daily_data[date] = {\n",
    "        \"open\": day[\"open\"],\n",
    "        \"close\": day[\"close\"],\n",
    "        \"high\": day[\"high\"],\n",
    "        \"low\": day[\"low\"],\n",
    "        \"volume_from\": day[\"volumefrom\"],\n",
    "        \"volume_to\": day[\"volumeto\"]\n",
    "    }"
   ]
  },
  {
   "cell_type": "code",
   "execution_count": null,
   "id": "9d652629",
   "metadata": {},
   "outputs": [],
   "source": [
    "daily_list = []\n",
    "for date, values in daily_data.items():\n",
    "    daily_dict = {\"date\": date}\n",
    "    daily_dict.update(values)\n",
    "    daily_list.append(daily_dict)"
   ]
  },
  {
   "cell_type": "code",
   "execution_count": null,
   "id": "7176a4aa",
   "metadata": {},
   "outputs": [],
   "source": [
    "daily_list"
   ]
  },
  {
   "cell_type": "code",
   "execution_count": null,
   "id": "de3fcab1",
   "metadata": {},
   "outputs": [],
   "source": [
    "df = pd.DataFrame(daily_list)"
   ]
  },
  {
   "cell_type": "code",
   "execution_count": null,
   "id": "c85b5750",
   "metadata": {},
   "outputs": [],
   "source": [
    "df['date'] = pd.to_datetime(df['date'], unit='s').dt.date"
   ]
  },
  {
   "cell_type": "code",
   "execution_count": null,
   "id": "97583517",
   "metadata": {},
   "outputs": [],
   "source": [
    "df"
   ]
  },
  {
   "cell_type": "code",
   "execution_count": null,
   "id": "95a967b4",
   "metadata": {},
   "outputs": [],
   "source": [
    "client = storage.Client.from_service_account_json('creds.json')"
   ]
  },
  {
   "cell_type": "code",
   "execution_count": null,
   "id": "26494aca",
   "metadata": {},
   "outputs": [],
   "source": [
    "bucket = client.bucket('crypto-data-project-bucket')"
   ]
  },
  {
   "cell_type": "code",
   "execution_count": null,
   "id": "5b85465f",
   "metadata": {},
   "outputs": [],
   "source": [
    "if not os.path.exists('crypto_data'):\n",
    "    os.makedirs('crypto_data')"
   ]
  },
  {
   "cell_type": "code",
   "execution_count": null,
   "id": "aaf5cc70",
   "metadata": {},
   "outputs": [],
   "source": [
    "crypto_folder = f'crypto_data/{crypto}'\n",
    "if not os.path.exists(crypto_folder):\n",
    "    os.makedirs(crypto_folder)"
   ]
  },
  {
   "cell_type": "code",
   "execution_count": null,
   "id": "6dc088dd",
   "metadata": {},
   "outputs": [],
   "source": [
    "file_name = f\"{crypto}_{current_date}.csv\""
   ]
  },
  {
   "cell_type": "code",
   "execution_count": null,
   "id": "9d5d7e3b",
   "metadata": {},
   "outputs": [],
   "source": [
    "blob = bucket.blob(f\"crypto_data/{crypto}/{file_name}\")"
   ]
  },
  {
   "cell_type": "code",
   "execution_count": null,
   "id": "9ac2c2e7",
   "metadata": {},
   "outputs": [],
   "source": [
    "if blob.exists():\n",
    "    # If the file exists, download it to a local temporary file\n",
    "    with open(f\"{crypto_folder}/temp.csv\", \"wb\") as f:\n",
    "        blob.download_to_file(f)\n",
    "    # Read the existing data into a DataFrame\n",
    "    existing_data = pd.read_csv(f\"{crypto_folder}/temp.csv\")\n",
    "    # Concatenate the new data with the existing data and drop duplicates\n",
    "    new_data = pd.concat([existing_data, df]).drop_duplicates()\n",
    "    # Overwrite the existing file with the updated data\n",
    "    new_data.to_csv(f\"{crypto_folder}/{file_name}\", index=False)\n",
    "    # Upload the updated file to the storage bucket\n",
    "    blob.upload_from_filename(f\"{crypto_folder}/{file_name}\", content_type=\"text/csv\")\n",
    "else:\n",
    "    # If the file doesn't exist, save the new data to a new file\n",
    "    df.to_csv(f\"{crypto_folder}/{file_name}\", index=False)\n",
    "    # Upload the new file to the storage bucket\n",
    "    blob.upload_from_filename(f\"{crypto_folder}/{file_name}\", content_type=\"text/csv\")\n"
   ]
  },
  {
   "cell_type": "code",
   "execution_count": null,
   "id": "ae62a85e",
   "metadata": {},
   "outputs": [],
   "source": [
    "# df.to_csv(f'crypto_data/{crypto}/{crypto}_{current_date}.csv', index=False)"
   ]
  },
  {
   "cell_type": "code",
   "execution_count": null,
   "id": "702689a0",
   "metadata": {},
   "outputs": [],
   "source": [
    "# blob = bucket.blob(f'crypto_data/{crypto}/{crypto}_{current_date}.csv')\n",
    "# with open(f'crypto_data/{crypto}/{crypto}_{current_date}.csv', 'rb') as f:\n",
    "#     blob.upload_from_file(f)"
   ]
  }
 ],
 "metadata": {
  "kernelspec": {
   "display_name": "Python 3 (ipykernel)",
   "language": "python",
   "name": "python3"
  },
  "language_info": {
   "codemirror_mode": {
    "name": "ipython",
    "version": 3
   },
   "file_extension": ".py",
   "mimetype": "text/x-python",
   "name": "python",
   "nbconvert_exporter": "python",
   "pygments_lexer": "ipython3",
   "version": "3.9.13"
  }
 },
 "nbformat": 4,
 "nbformat_minor": 5
}
